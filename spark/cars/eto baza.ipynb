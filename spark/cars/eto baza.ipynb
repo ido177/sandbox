{
 "cells": [
  {
   "cell_type": "code",
   "execution_count": null,
   "id": "b49fd624-6921-4767-acb9-bfa1d9186a17",
   "metadata": {},
   "outputs": [],
   "source": [
    "from pyspark.sql import SparkSession"
   ]
  },
  {
   "cell_type": "code",
   "execution_count": 9,
   "id": "e248c171-9612-4dbe-9076-931a4552725b",
   "metadata": {},
   "outputs": [
    {
     "data": {
      "text/html": [
       "\n",
       "            <div>\n",
       "                <p><b>SparkSession - in-memory</b></p>\n",
       "                \n",
       "        <div>\n",
       "            <p><b>SparkContext</b></p>\n",
       "\n",
       "            <p><a href=\"http://ca9e8172ba7b:4040\">Spark UI</a></p>\n",
       "\n",
       "            <dl>\n",
       "              <dt>Version</dt>\n",
       "                <dd><code>v3.3.0</code></dd>\n",
       "              <dt>Master</dt>\n",
       "                <dd><code>local[*]</code></dd>\n",
       "              <dt>AppName</dt>\n",
       "                <dd><code>pyspark-shell</code></dd>\n",
       "            </dl>\n",
       "        </div>\n",
       "        \n",
       "            </div>\n",
       "        "
      ],
      "text/plain": [
       "<pyspark.sql.session.SparkSession at 0x7fc80f7d8810>"
      ]
     },
     "execution_count": 9,
     "metadata": {},
     "output_type": "execute_result"
    }
   ],
   "source": [
    "spark = SparkSession.builder.getOrCreate()\n",
    "spark"
   ]
  },
  {
   "cell_type": "code",
   "execution_count": 14,
   "id": "b7636dfa-1a6b-4933-bcb2-2ad58648de33",
   "metadata": {},
   "outputs": [],
   "source": [
    "df = spark.read.format('csv').option('header', 'true').load('data/cars.csv')"
   ]
  },
  {
   "cell_type": "code",
   "execution_count": 18,
   "id": "87aec7bb-9e35-4334-b692-a7241e4574bd",
   "metadata": {},
   "outputs": [
    {
     "name": "stdout",
     "output_type": "stream",
     "text": [
      "-RECORD 0-------------------------\n",
      " manufacturer_name | Subaru       \n",
      " model_name        | Outback      \n",
      " transmission      | automatic    \n",
      " color             | silver       \n",
      " odometer_value    | 190000       \n",
      " year_produced     | 2010         \n",
      " engine_fuel       | gasoline     \n",
      " engine_has_gas    | False        \n",
      " engine_type       | gasoline     \n",
      " engine_capacity   | 2.5          \n",
      " body_type         | universal    \n",
      " has_warranty      | False        \n",
      " state             | owned        \n",
      " drivetrain        | all          \n",
      " price_usd         | 10900.0      \n",
      " is_exchangeable   | False        \n",
      " location_region   | Минская обл. \n",
      " number_of_photos  | 9            \n",
      " up_counter        | 13           \n",
      " feature_0         | False        \n",
      " feature_1         | True         \n",
      " feature_2         | True         \n",
      " feature_3         | True         \n",
      " feature_4         | False        \n",
      " feature_5         | True         \n",
      " feature_6         | False        \n",
      " feature_7         | True         \n",
      " feature_8         | True         \n",
      " feature_9         | True         \n",
      " duration_listed   | 16           \n",
      "only showing top 1 row\n",
      "\n"
     ]
    }
   ],
   "source": [
    "df.show(1, vertical=True)"
   ]
  },
  {
   "cell_type": "markdown",
   "id": "f049a12e-5596-4200-b645-ed77417515b3",
   "metadata": {},
   "source": [
    "Select statement"
   ]
  },
  {
   "cell_type": "code",
   "execution_count": 22,
   "id": "038f5336-9bb5-46ab-a336-f2ff60483ec7",
   "metadata": {},
   "outputs": [
    {
     "name": "stdout",
     "output_type": "stream",
     "text": [
      "+---------+---------------+\n",
      "|feature_0|duration_listed|\n",
      "+---------+---------------+\n",
      "|    False|             16|\n",
      "|    False|             83|\n",
      "|    False|            151|\n",
      "|     True|             86|\n",
      "|    False|              7|\n",
      "+---------+---------------+\n",
      "only showing top 5 rows\n",
      "\n"
     ]
    }
   ],
   "source": [
    "df.select(\"feature_0\", \"duration_listed\").show(5)"
   ]
  },
  {
   "cell_type": "code",
   "execution_count": 24,
   "id": "78bc8139-a2e8-419a-b9f2-96329ce2c2a0",
   "metadata": {},
   "outputs": [
    {
     "name": "stdout",
     "output_type": "stream",
     "text": [
      "+---------+---------------+\n",
      "|feature_0|duration_listed|\n",
      "+---------+---------------+\n",
      "|    False|             16|\n",
      "|    False|             83|\n",
      "|    False|            151|\n",
      "|     True|             86|\n",
      "|    False|              7|\n",
      "+---------+---------------+\n",
      "only showing top 5 rows\n",
      "\n"
     ]
    }
   ],
   "source": [
    "df.select(df[\"feature_0\"], df.duration_listed).show(5) # as pandas"
   ]
  },
  {
   "cell_type": "code",
   "execution_count": 26,
   "id": "004fb984-71f6-4382-b37b-e90899555f0f",
   "metadata": {},
   "outputs": [],
   "source": [
    "import pyspark.sql.functions as F # another way to select with spark functions"
   ]
  },
  {
   "cell_type": "code",
   "execution_count": 28,
   "id": "6d12f2b6-48ec-4387-a550-d606ccdcb59a",
   "metadata": {},
   "outputs": [
    {
     "name": "stdout",
     "output_type": "stream",
     "text": [
      "+---------+---------------+\n",
      "|feature_0|duration_listed|\n",
      "+---------+---------------+\n",
      "|    False|             16|\n",
      "|    False|             83|\n",
      "|    False|            151|\n",
      "|     True|             86|\n",
      "|    False|              7|\n",
      "+---------+---------------+\n",
      "only showing top 5 rows\n",
      "\n"
     ]
    }
   ],
   "source": [
    "df.select(F.col(\"feature_0\"), F.col(\"duration_listed\")).show(5) # we have a method, so we can keep working "
   ]
  },
  {
   "cell_type": "markdown",
   "id": "853bb8d7-16a7-4558-8cd3-02ee2dd90a34",
   "metadata": {},
   "source": [
    "Filter statement"
   ]
  },
  {
   "cell_type": "code",
   "execution_count": 35,
   "id": "bf25b699-0904-4dd8-aca7-0153131c012d",
   "metadata": {},
   "outputs": [
    {
     "name": "stdout",
     "output_type": "stream",
     "text": [
      "+-----------------+----------+------------+-----+--------------+-------------+-----------+--------------+-----------+---------------+---------+------------+-----+----------+---------+---------------+---------------+----------------+----------+---------+---------+---------+---------+---------+---------+---------+---------+---------+---------+---------------+\n",
      "|manufacturer_name|model_name|transmission|color|odometer_value|year_produced|engine_fuel|engine_has_gas|engine_type|engine_capacity|body_type|has_warranty|state|drivetrain|price_usd|is_exchangeable|location_region|number_of_photos|up_counter|feature_0|feature_1|feature_2|feature_3|feature_4|feature_5|feature_6|feature_7|feature_8|feature_9|duration_listed|\n",
      "+-----------------+----------+------------+-----+--------------+-------------+-----------+--------------+-----------+---------------+---------+------------+-----+----------+---------+---------------+---------------+----------------+----------+---------+---------+---------+---------+---------+---------+---------+---------+---------+---------+---------------+\n",
      "|             Audi|        Q7|   automatic| grey|        275000|         2007|     diesel|         False|     diesel|            3.0|      suv|       False|owned|       all|  12450.0|           True|   Минская обл.|              23|        16|     True|    False|    False|    False|    False|    False|    False|    False|    False|    False|             21|\n",
      "+-----------------+----------+------------+-----+--------------+-------------+-----------+--------------+-----------+---------------+---------+------------+-----+----------+---------+---------------+---------------+----------------+----------+---------+---------+---------+---------+---------+---------+---------+---------+---------+---------+---------------+\n",
      "only showing top 1 row\n",
      "\n"
     ]
    }
   ],
   "source": [
    "df.filter(\"manufacturer_name = 'Audi'\").show(1)"
   ]
  },
  {
   "cell_type": "code",
   "execution_count": 41,
   "id": "a10be1b9-65b4-4cfd-8c2a-059c14c6fb86",
   "metadata": {},
   "outputs": [
    {
     "name": "stdout",
     "output_type": "stream",
     "text": [
      "+-----------------+---------+---------------+\n",
      "|manufacturer_name|feature_0|duration_listed|\n",
      "+-----------------+---------+---------------+\n",
      "|           Subaru|    False|             16|\n",
      "|           Subaru|    False|             83|\n",
      "|           Subaru|    False|            151|\n",
      "|           Subaru|     True|             86|\n",
      "|           Subaru|    False|              7|\n",
      "+-----------------+---------+---------------+\n",
      "only showing top 5 rows\n",
      "\n"
     ]
    }
   ],
   "source": [
    "df.select(\"manufacturer_name\", \"feature_0\", \"duration_listed\")\\\n",
    ".filter(\"(manufacturer_name = 'Audi' and transmission = 'mechanical') or manufacturer_name = 'Subaru'\").show(5)"
   ]
  },
  {
   "cell_type": "code",
   "execution_count": 44,
   "id": "4ce2d86c-1b06-4bff-a86e-50e7552e431a",
   "metadata": {},
   "outputs": [
    {
     "name": "stdout",
     "output_type": "stream",
     "text": [
      "+-----------------+---------+---------------+\n",
      "|manufacturer_name|feature_0|duration_listed|\n",
      "+-----------------+---------+---------------+\n",
      "|           Subaru|     True|             86|\n",
      "|           Subaru|    False|             11|\n",
      "|           Subaru|    False|              2|\n",
      "|           Subaru|     True|            230|\n",
      "|           Subaru|    False|             21|\n",
      "+-----------------+---------+---------------+\n",
      "only showing top 5 rows\n",
      "\n"
     ]
    }
   ],
   "source": [
    "df.select(\"manufacturer_name\", \"feature_0\", \"duration_listed\")\\\n",
    ".filter(F.col(\"transmission\") == 'mechanical')\\\n",
    ".filter(F.col('manufacturer_name') == 'Subaru').show(5)"
   ]
  },
  {
   "cell_type": "markdown",
   "id": "65303412-bab4-4596-b32c-910c49d9b3e9",
   "metadata": {},
   "source": [
    "Count"
   ]
  },
  {
   "cell_type": "code",
   "execution_count": 46,
   "id": "ffa7dd66-9b32-4098-b65d-da2d266afe88",
   "metadata": {},
   "outputs": [
    {
     "data": {
      "text/plain": [
       "38491"
      ]
     },
     "execution_count": 46,
     "metadata": {},
     "output_type": "execute_result"
    }
   ],
   "source": [
    "df.distinct().count()"
   ]
  },
  {
   "cell_type": "code",
   "execution_count": 48,
   "id": "d6f6d7e2-b2bf-4d83-97c0-ffae6122096f",
   "metadata": {},
   "outputs": [
    {
     "data": {
      "text/plain": [
       "55"
      ]
     },
     "execution_count": 48,
     "metadata": {},
     "output_type": "execute_result"
    }
   ],
   "source": [
    "df.select(F.col('manufacturer_name')).distinct().count()"
   ]
  },
  {
   "cell_type": "markdown",
   "id": "e02070a9-0202-4805-bf53-857afd0922dc",
   "metadata": {},
   "source": [
    "groupBy orderBy"
   ]
  },
  {
   "cell_type": "code",
   "execution_count": 52,
   "id": "d9265e0d-de3f-452d-a44f-d0c9deb5f0ab",
   "metadata": {},
   "outputs": [
    {
     "name": "stdout",
     "output_type": "stream",
     "text": [
      "+-----------------+-----+\n",
      "|manufacturer_name|count|\n",
      "+-----------------+-----+\n",
      "|       Volkswagen| 4243|\n",
      "|             Opel| 2759|\n",
      "|              BMW| 2610|\n",
      "|             Ford| 2566|\n",
      "|          Renault| 2493|\n",
      "|             Audi| 2468|\n",
      "|    Mercedes-Benz| 2237|\n",
      "|          Peugeot| 1909|\n",
      "|          Citroen| 1562|\n",
      "|           Nissan| 1361|\n",
      "|            Mazda| 1328|\n",
      "|           Toyota| 1246|\n",
      "|          Hyundai| 1116|\n",
      "|            Skoda| 1089|\n",
      "|              Kia|  912|\n",
      "|       Mitsubishi|  887|\n",
      "|             Fiat|  824|\n",
      "|            Honda|  797|\n",
      "|            Volvo|  721|\n",
      "|              ВАЗ|  481|\n",
      "+-----------------+-----+\n",
      "only showing top 20 rows\n",
      "\n"
     ]
    }
   ],
   "source": [
    "df.groupBy('manufacturer_name').count().orderBy(F.col('count').desc()).show() # F.col('count').desc() without function it's impossible"
   ]
  },
  {
   "cell_type": "code",
   "execution_count": 53,
   "id": "a493cc65-06a9-4cdf-a775-9da6f4104068",
   "metadata": {},
   "outputs": [
    {
     "name": "stdout",
     "output_type": "stream",
     "text": [
      "+------------+\n",
      "|manufacturer|\n",
      "+------------+\n",
      "|      Subaru|\n",
      "|      Subaru|\n",
      "|      Subaru|\n",
      "|      Subaru|\n",
      "|      Subaru|\n",
      "+------------+\n",
      "only showing top 5 rows\n",
      "\n"
     ]
    }
   ],
   "source": [
    "df.withColumnRenamed().select('manufacturer').show(5)"
   ]
  },
  {
   "cell_type": "code",
   "execution_count": 54,
   "id": "8b949748-a38e-432b-8871-da465b22d5a6",
   "metadata": {},
   "outputs": [
    {
     "name": "stdout",
     "output_type": "stream",
     "text": [
      "+-------------+---------+\n",
      "|year_produced|next_year|\n",
      "+-------------+---------+\n",
      "|         2010|   2011.0|\n",
      "|         2002|   2003.0|\n",
      "|         2001|   2002.0|\n",
      "|         1999|   2000.0|\n",
      "|         2001|   2002.0|\n",
      "+-------------+---------+\n",
      "only showing top 5 rows\n",
      "\n"
     ]
    }
   ],
   "source": [
    "df.withColumn(\"next_year\", F.col(\"year_produced\") + 1).select(\"year_produced\", \"next_year\").show(5)"
   ]
  },
  {
   "cell_type": "markdown",
   "id": "5e951fa8-bd99-4822-994e-ff0d0e780728",
   "metadata": {},
   "source": [
    "printSchema describe"
   ]
  },
  {
   "cell_type": "code",
   "execution_count": 55,
   "id": "64243f96-6fa8-4b70-9b5e-b0fad0f920f6",
   "metadata": {},
   "outputs": [
    {
     "name": "stdout",
     "output_type": "stream",
     "text": [
      "root\n",
      " |-- manufacturer_name: string (nullable = true)\n",
      " |-- model_name: string (nullable = true)\n",
      " |-- transmission: string (nullable = true)\n",
      " |-- color: string (nullable = true)\n",
      " |-- odometer_value: string (nullable = true)\n",
      " |-- year_produced: string (nullable = true)\n",
      " |-- engine_fuel: string (nullable = true)\n",
      " |-- engine_has_gas: string (nullable = true)\n",
      " |-- engine_type: string (nullable = true)\n",
      " |-- engine_capacity: string (nullable = true)\n",
      " |-- body_type: string (nullable = true)\n",
      " |-- has_warranty: string (nullable = true)\n",
      " |-- state: string (nullable = true)\n",
      " |-- drivetrain: string (nullable = true)\n",
      " |-- price_usd: string (nullable = true)\n",
      " |-- is_exchangeable: string (nullable = true)\n",
      " |-- location_region: string (nullable = true)\n",
      " |-- number_of_photos: string (nullable = true)\n",
      " |-- up_counter: string (nullable = true)\n",
      " |-- feature_0: string (nullable = true)\n",
      " |-- feature_1: string (nullable = true)\n",
      " |-- feature_2: string (nullable = true)\n",
      " |-- feature_3: string (nullable = true)\n",
      " |-- feature_4: string (nullable = true)\n",
      " |-- feature_5: string (nullable = true)\n",
      " |-- feature_6: string (nullable = true)\n",
      " |-- feature_7: string (nullable = true)\n",
      " |-- feature_8: string (nullable = true)\n",
      " |-- feature_9: string (nullable = true)\n",
      " |-- duration_listed: string (nullable = true)\n",
      "\n"
     ]
    }
   ],
   "source": [
    "df.printSchema()"
   ]
  },
  {
   "cell_type": "code",
   "execution_count": 59,
   "id": "bfe36b3e-864d-486c-955a-e56570c17e29",
   "metadata": {},
   "outputs": [
    {
     "name": "stdout",
     "output_type": "stream",
     "text": [
      "+-------+-----------------+------------------+\n",
      "|summary|manufacturer_name|     year_produced|\n",
      "+-------+-----------------+------------------+\n",
      "|  count|            38531|             38531|\n",
      "|   mean|             null|2002.9437336170874|\n",
      "| stddev|             null| 8.065730511309935|\n",
      "|    min|            Acura|              1942|\n",
      "|    max|              УАЗ|              2019|\n",
      "+-------+-----------------+------------------+\n",
      "\n"
     ]
    }
   ],
   "source": [
    "df.select('manufacturer_name', 'year_produced').describe().show() # fast metrics"
   ]
  },
  {
   "cell_type": "code",
   "execution_count": null,
   "id": "2e1484e7-56d5-426f-9dd9-dd2e1ceb1d87",
   "metadata": {},
   "outputs": [],
   "source": []
  }
 ],
 "metadata": {
  "kernelspec": {
   "display_name": "Python 3 (ipykernel)",
   "language": "python",
   "name": "python3"
  },
  "language_info": {
   "codemirror_mode": {
    "name": "ipython",
    "version": 3
   },
   "file_extension": ".py",
   "mimetype": "text/x-python",
   "name": "python",
   "nbconvert_exporter": "python",
   "pygments_lexer": "ipython3",
   "version": "3.9.16"
  }
 },
 "nbformat": 4,
 "nbformat_minor": 5
}
