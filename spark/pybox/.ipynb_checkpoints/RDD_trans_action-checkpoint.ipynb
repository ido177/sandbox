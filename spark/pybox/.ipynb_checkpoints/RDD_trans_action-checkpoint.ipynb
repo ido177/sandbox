{
 "cells": [
  {
   "cell_type": "code",
   "execution_count": 63,
   "id": "97707aed-ec90-4235-95b0-3dfe4a77ce4d",
   "metadata": {},
   "outputs": [
    {
     "data": {
      "text/html": [
       "\n",
       "            <div>\n",
       "                <p><b>SparkSession - hive</b></p>\n",
       "                \n",
       "        <div>\n",
       "            <p><b>SparkContext</b></p>\n",
       "\n",
       "            <p><a href=\"http://192.168.1.158:4040\">Spark UI</a></p>\n",
       "\n",
       "            <dl>\n",
       "              <dt>Version</dt>\n",
       "                <dd><code>v3.3.1</code></dd>\n",
       "              <dt>Master</dt>\n",
       "                <dd><code>local[1]</code></dd>\n",
       "              <dt>AppName</dt>\n",
       "                <dd><code>SparkByExamples.com</code></dd>\n",
       "            </dl>\n",
       "        </div>\n",
       "        \n",
       "            </div>\n",
       "        "
      ],
      "text/plain": [
       "<pyspark.sql.session.SparkSession at 0x115b952e0>"
      ]
     },
     "execution_count": 63,
     "metadata": {},
     "output_type": "execute_result"
    }
   ],
   "source": [
    "from pyspark.sql import SparkSession\n",
    "import os\n",
    "\n",
    "os.environ[\"PYSPARK_PYTHON\"]=\"/usr/local/bin/python3.9\"\n",
    "\n",
    "spark = SparkSession.builder \\\n",
    "      .master(\"local[1]\") \\\n",
    "      .appName(\"SparkTransformAction\") \\\n",
    "      .config(\"spark.sql.warehouse.dir\", \"<path>/spark-warehouse\") \\\n",
    "      .enableHiveSupport() \\\n",
    "      .getOrCreate()\n",
    "sc = spark.sparkContext\n",
    "spark\n"
   ]
  },
  {
   "cell_type": "code",
   "execution_count": 64,
   "id": "206a1b45-a922-4234-88b7-c21640222449",
   "metadata": {},
   "outputs": [],
   "source": [
    "rdd = sc.textFile('test.txt')"
   ]
  },
  {
   "cell_type": "code",
   "execution_count": 65,
   "id": "77816ca4-89a2-46f5-a19a-764431942206",
   "metadata": {},
   "outputs": [
    {
     "data": {
      "text/plain": [
       "test.txt MapPartitionsRDD[1] at textFile at NativeMethodAccessorImpl.java:0"
      ]
     },
     "execution_count": 65,
     "metadata": {},
     "output_type": "execute_result"
    }
   ],
   "source": [
    "rdd"
   ]
  },
  {
   "cell_type": "code",
   "execution_count": 66,
   "id": "2a0f53b4-55e3-4691-a19d-cbf3068ae65f",
   "metadata": {},
   "outputs": [],
   "source": [
    "rdd2 = rdd.flatMap(lambda x: x.split(' '))"
   ]
  },
  {
   "cell_type": "code",
   "execution_count": 67,
   "id": "25225c61-bed8-4863-90b9-183891763d8a",
   "metadata": {},
   "outputs": [],
   "source": [
    "rdd3 = rdd2.map(lambda x: (x, 1))"
   ]
  },
  {
   "cell_type": "code",
   "execution_count": 68,
   "id": "aec232fe-86a1-4a97-ba24-c23ea40e81aa",
   "metadata": {},
   "outputs": [],
   "source": [
    "rdd4 = rdd3.reduceByKey(lambda a,b: a+b)"
   ]
  },
  {
   "cell_type": "code",
   "execution_count": 69,
   "id": "50bb9539-73b9-4ed3-bcc1-bd10dd43f5e9",
   "metadata": {},
   "outputs": [],
   "source": [
    "rdd5 = rdd4.map(lambda x: (x[1], x[0])).sortByKey(ascending=False)"
   ]
  },
  {
   "cell_type": "code",
   "execution_count": 70,
   "id": "86f98139-fb15-4a3b-b5bd-951502c7f0f8",
   "metadata": {},
   "outputs": [],
   "source": [
    "rdd6 = rdd5.filter(lambda x: 'an' in x[1])"
   ]
  },
  {
   "cell_type": "code",
   "execution_count": 72,
   "id": "e8f57f08-9162-4bc7-b349-6fd1f0938860",
   "metadata": {},
   "outputs": [
    {
     "name": "stdout",
     "output_type": "stream",
     "text": [
      "(27, 'This') (27, 'anyone')\n",
      "(27, 'eBook') (27, 'anywhere')\n",
      "(27, 'is') (27, 'and')\n",
      "(27, 'for') (18, 'Wonderland')\n"
     ]
    }
   ],
   "source": [
    "for i, j in zip(rdd5.collect(), rdd6.collect()):\n",
    "    print(i, j)"
   ]
  },
  {
   "cell_type": "markdown",
   "id": "00adf553-6605-4e3e-9cd0-adce78b274d8",
   "metadata": {},
   "source": [
    "Actions"
   ]
  },
  {
   "cell_type": "code",
   "execution_count": 74,
   "id": "937bad36-a4f7-4726-bd76-14aa11014978",
   "metadata": {},
   "outputs": [
    {
     "name": "stdout",
     "output_type": "stream",
     "text": [
      "count: 4\n"
     ]
    }
   ],
   "source": [
    "# Action - count\n",
    "print('count: ' + str(rdd6.count()))"
   ]
  },
  {
   "cell_type": "code",
   "execution_count": 75,
   "id": "c4de8ac5-821a-4f24-8bf6-d7f8387b630a",
   "metadata": {},
   "outputs": [
    {
     "name": "stdout",
     "output_type": "stream",
     "text": [
      "First Record : 27,anyone\n"
     ]
    }
   ],
   "source": [
    "# Action - first\n",
    "firstRec = rdd6.first()\n",
    "print(\"First Record : \"+str(firstRec[0]) + \",\"+ firstRec[1])"
   ]
  },
  {
   "cell_type": "code",
   "execution_count": 76,
   "id": "b5a1e26f-940d-4755-a416-90d1dce37fb5",
   "metadata": {},
   "outputs": [
    {
     "name": "stdout",
     "output_type": "stream",
     "text": [
      "Max Record : 27,anywhere\n"
     ]
    }
   ],
   "source": [
    "# Action - max\n",
    "datMax = rdd6.max()\n",
    "print(\"Max Record : \"+str(datMax[0]) + \",\"+ datMax[1])"
   ]
  },
  {
   "cell_type": "code",
   "execution_count": 82,
   "id": "2ed139f2-c251-4adc-bcae-55d8e8a01940",
   "metadata": {},
   "outputs": [
    {
     "name": "stdout",
     "output_type": "stream",
     "text": [
      "dataReduce Record : 99\n"
     ]
    }
   ],
   "source": [
    "# Action - reduce\n",
    "totalWordCount = rdd6.reduce(lambda a,b: (a[0]+b[0], a[1]))\n",
    "print(\"dataReduce Record : \"+str(totalWordCount[0]))"
   ]
  },
  {
   "cell_type": "code",
   "execution_count": 83,
   "id": "ca2303b3-6364-4b4a-a4be-d9d47ba230c1",
   "metadata": {},
   "outputs": [
    {
     "name": "stdout",
     "output_type": "stream",
     "text": [
      "data3 Key:27, Value:anyone\n",
      "data3 Key:27, Value:anywhere\n",
      "data3 Key:27, Value:and\n"
     ]
    }
   ],
   "source": [
    "# Action - take\n",
    "data3 = rdd6.take(3)\n",
    "for f in data3:\n",
    "    print(\"data3 Key:\"+ str(f[0]) +\", Value:\"+f[1])"
   ]
  },
  {
   "cell_type": "code",
   "execution_count": 84,
   "id": "41038267-c168-4d3a-8212-fdf559a17f52",
   "metadata": {},
   "outputs": [
    {
     "name": "stdout",
     "output_type": "stream",
     "text": [
      "Key:27, Value:anyone\n",
      "Key:27, Value:anywhere\n",
      "Key:27, Value:and\n",
      "Key:18, Value:Wonderland\n"
     ]
    }
   ],
   "source": [
    "# Action - collect\n",
    "data = rdd6.collect()\n",
    "for f in data:\n",
    "    print(\"Key:\"+ str(f[0]) +\", Value:\"+f[1])"
   ]
  },
  {
   "cell_type": "code",
   "execution_count": 86,
   "id": "a5f78000-6626-4ed3-9720-c4bd6426bff7",
   "metadata": {},
   "outputs": [],
   "source": [
    "rdd6.saveAsTextFile(\"wordCount\")"
   ]
  },
  {
   "cell_type": "code",
   "execution_count": 88,
   "id": "fdd0cb82-9518-4483-b182-543a4ef65f7a",
   "metadata": {},
   "outputs": [],
   "source": [
    "spark.stop()"
   ]
  },
  {
   "cell_type": "code",
   "execution_count": null,
   "id": "7772a09f-4a82-4748-8a9c-a1423057f238",
   "metadata": {},
   "outputs": [],
   "source": []
  }
 ],
 "metadata": {
  "kernelspec": {
   "display_name": "Python 3 (ipykernel)",
   "language": "python",
   "name": "python3"
  },
  "language_info": {
   "codemirror_mode": {
    "name": "ipython",
    "version": 3
   },
   "file_extension": ".py",
   "mimetype": "text/x-python",
   "name": "python",
   "nbconvert_exporter": "python",
   "pygments_lexer": "ipython3",
   "version": "3.9.16"
  }
 },
 "nbformat": 4,
 "nbformat_minor": 5
}
