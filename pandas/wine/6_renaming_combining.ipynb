{
 "cells": [
  {
   "cell_type": "code",
   "execution_count": null,
   "id": "2833a416-82d2-487b-a923-29f11798caa4",
   "metadata": {},
   "outputs": [],
   "source": [
    "import pandas as pd\n",
    "\n",
    "reviews = pd.read_csv(\"winemag-data-130k-v2.csv\", index_col=0)\n",
    "pd.set_option(\"display.max_rows\", 5)"
   ]
  },
  {
   "cell_type": "code",
   "execution_count": null,
   "id": "df85d3a0-84df-4d5c-849c-003cf9fb33be",
   "metadata": {},
   "outputs": [],
   "source": [
    "renamed = reviews.rename(columns={'region_1': 'region', 'region_2': 'locale'})\n",
    "renamed"
   ]
  },
  {
   "cell_type": "code",
   "execution_count": null,
   "id": "2e1d64c0-f5bf-4452-9905-b4cd0d02e7c5",
   "metadata": {},
   "outputs": [],
   "source": [
    "reindexed = reviews.rename_axis('wines', axis='rows')\n",
    "reindexed"
   ]
  },
  {
   "cell_type": "code",
   "execution_count": null,
   "id": "d450039a-8903-41d2-9ef1-9b0d3ae5e3b3",
   "metadata": {},
   "outputs": [],
   "source": [
    "# https://www.kaggle.com/datasets/residentmario/things-on-reddit\n",
    "gaming_products = pd.read_csv(\"/input/things-on-reddit/top-things/top-things/reddits/g/gaming.csv\")\n",
    "gaming_products['subreddit'] = \"r/gaming\"\n",
    "movie_products = pd.read_csv(\"/input/things-on-reddit/top-things/top-things/reddits/m/movies.csv\")\n",
    "movie_products['subreddit'] = \"r/movies\""
   ]
  },
  {
   "cell_type": "code",
   "execution_count": null,
   "id": "8305a279-bb6e-4d2b-a73b-b2c0d7b1195f",
   "metadata": {},
   "outputs": [],
   "source": [
    "combined_products = pd.concat([gaming_products, movie_products])"
   ]
  },
  {
   "cell_type": "code",
   "execution_count": null,
   "id": "da84347c-074b-4efa-b1ac-0e5041165b37",
   "metadata": {},
   "outputs": [],
   "source": [
    "# https://www.kaggle.com/datasets/open-powerlifting/powerlifting-database\n",
    "powerlifting_meets = pd.read_csv(\"/input/powerlifting-database/meets.csv\")\n",
    "powerlifting_competitors = pd.read_csv(\"/input/powerlifting-database/openpowerlifting.csv\")"
   ]
  },
  {
   "cell_type": "code",
   "execution_count": null,
   "id": "d83b49cd-6889-4e48-bd87-ade630634ecf",
   "metadata": {},
   "outputs": [],
   "source": [
    "powerlifting_combined = powerlifting_meets.set_index('MeetID').join(powerlifting_competitors.set_index('MeetID'))"
   ]
  }
 ],
 "metadata": {
  "kernelspec": {
   "display_name": "Python 3 (ipykernel)",
   "language": "python",
   "name": "python3"
  },
  "language_info": {
   "codemirror_mode": {
    "name": "ipython",
    "version": 3
   },
   "file_extension": ".py",
   "mimetype": "text/x-python",
   "name": "python",
   "nbconvert_exporter": "python",
   "pygments_lexer": "ipython3",
   "version": "3.9.16"
  }
 },
 "nbformat": 4,
 "nbformat_minor": 5
}
