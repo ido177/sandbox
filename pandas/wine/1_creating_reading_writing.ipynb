{
 "cells": [
  {
   "cell_type": "code",
   "execution_count": null,
   "id": "792be342-1c22-4ee7-8ed3-9e4b4227f7d7",
   "metadata": {},
   "outputs": [],
   "source": [
    "import pandas as pd"
   ]
  },
  {
   "cell_type": "code",
   "execution_count": null,
   "id": "34a8e2ff-5637-490f-b7f1-1b9248836051",
   "metadata": {},
   "outputs": [],
   "source": [
    "df = pd.DataFrame({'Apples': [30], 'Bananas': [21]})\n",
    "fruits = df"
   ]
  },
  {
   "cell_type": "code",
   "execution_count": null,
   "id": "165f32e0-ee24-4bda-b41f-4c65f615ba93",
   "metadata": {},
   "outputs": [],
   "source": [
    "fruit_sales = pd.DataFrame({'Apples': [35, 41], 'Bananas': [21, 34]}, index=['2017 Sales', '2018 Sales'])\n",
    "fruit_sales"
   ]
  },
  {
   "cell_type": "code",
   "execution_count": null,
   "id": "069a74b2-d62c-4a60-8ee8-11155dc0ca38",
   "metadata": {},
   "outputs": [],
   "source": [
    "ingredients = pd.Series(['4 cups', '1 cup', '2 large', '1 can'], index=['Flour', 'Milk', 'Eggs', 'Spam'], name='Dinner')\n",
    "ingredients"
   ]
  },
  {
   "cell_type": "code",
   "execution_count": null,
   "id": "a47c59bf-0cf6-4b39-9994-7bbca02e6c81",
   "metadata": {},
   "outputs": [],
   "source": [
    "reviews = pd.read_csv('winemag-data_first150k.csv', index_col=0)\n",
    "reviews"
   ]
  },
  {
   "cell_type": "code",
   "execution_count": null,
   "id": "ae5f058e-507b-4095-9b29-6779ea3d16f5",
   "metadata": {},
   "outputs": [],
   "source": [
    "animals = pd.DataFrame({'Cows': [12, 20], 'Goats': [22, 19]}, index=['Year 1', 'Year 2'])\n",
    "animals"
   ]
  },
  {
   "cell_type": "code",
   "execution_count": null,
   "id": "a25bb822-931a-4aae-9cf7-13d231cbd54d",
   "metadata": {},
   "outputs": [],
   "source": [
    "animals.to_csv('cows_and_goats.csv')"
   ]
  }
 ],
 "metadata": {
  "kernelspec": {
   "display_name": "Python 3 (ipykernel)",
   "language": "python",
   "name": "python3"
  },
  "language_info": {
   "codemirror_mode": {
    "name": "ipython",
    "version": 3
   },
   "file_extension": ".py",
   "mimetype": "text/x-python",
   "name": "python",
   "nbconvert_exporter": "python",
   "pygments_lexer": "ipython3",
   "version": "3.9.16"
  }
 },
 "nbformat": 4,
 "nbformat_minor": 5
}
