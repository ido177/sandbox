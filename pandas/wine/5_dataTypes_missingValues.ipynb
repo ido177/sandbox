{
 "cells": [
  {
   "cell_type": "code",
   "execution_count": null,
   "id": "a46dcc3d-5f9d-4946-96b0-cb57ff4af1f1",
   "metadata": {},
   "outputs": [],
   "source": [
    "import pandas as pd\n",
    "\n",
    "reviews = pd.read_csv(\"winemag-data-130k-v2.csv\", index_col=0)\n",
    "pd.set_option(\"display.max_rows\", 5)"
   ]
  },
  {
   "cell_type": "code",
   "execution_count": null,
   "id": "f384bfef-4717-43eb-a76c-5d01939f6519",
   "metadata": {},
   "outputs": [],
   "source": [
    "dtype = reviews.points.dtype\n",
    "dtype"
   ]
  },
  {
   "cell_type": "code",
   "execution_count": null,
   "id": "936fc072-ed60-44d7-ba70-6b5a68772417",
   "metadata": {},
   "outputs": [],
   "source": [
    "dtype_df = reviews.dtypes\n",
    "dtype_df"
   ]
  },
  {
   "cell_type": "code",
   "execution_count": null,
   "id": "cc5a22d6-b4fe-41f4-96cf-31648b62a6d5",
   "metadata": {},
   "outputs": [],
   "source": [
    "point_strings = reviews.points.astype('str')\n",
    "point_strings"
   ]
  },
  {
   "cell_type": "code",
   "execution_count": null,
   "id": "d745dc4b-441e-4c0c-bc65-1417e41aef1a",
   "metadata": {},
   "outputs": [],
   "source": [
    "n_missing_prices = reviews.price.isnull().sum()\n",
    "n_missing_prices"
   ]
  },
  {
   "cell_type": "code",
   "execution_count": null,
   "id": "95145fc8-10bc-4264-a491-bf687dfd1775",
   "metadata": {},
   "outputs": [],
   "source": [
    "reviews_per_region = reviews.region_1.fillna('Unknown').value_counts().sort_values(ascending=False)\n",
    "reviews_per_region"
   ]
  },
  {
   "cell_type": "code",
   "execution_count": null,
   "id": "08d007c9-b9a2-4da4-8835-9eeb77facb3f",
   "metadata": {},
   "outputs": [],
   "source": []
  }
 ],
 "metadata": {
  "kernelspec": {
   "display_name": "Python 3 (ipykernel)",
   "language": "python",
   "name": "python3"
  },
  "language_info": {
   "codemirror_mode": {
    "name": "ipython",
    "version": 3
   },
   "file_extension": ".py",
   "mimetype": "text/x-python",
   "name": "python",
   "nbconvert_exporter": "python",
   "pygments_lexer": "ipython3",
   "version": "3.9.16"
  }
 },
 "nbformat": 4,
 "nbformat_minor": 5
}
