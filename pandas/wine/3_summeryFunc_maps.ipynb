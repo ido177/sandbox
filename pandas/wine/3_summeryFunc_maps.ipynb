{
 "cells": [
  {
   "cell_type": "code",
   "execution_count": null,
   "id": "1589e053-070a-4142-aedf-7d265cf7f39d",
   "metadata": {},
   "outputs": [],
   "source": [
    "import pandas as pd\n",
    "pd.set_option(\"display.max_rows\", 5)\n",
    "reviews = pd.read_csv(\"winemag-data-130k-v2.csv\", index_col=0)"
   ]
  },
  {
   "cell_type": "code",
   "execution_count": null,
   "id": "8dfe9232-b7ad-418d-917e-16b84d1a9ad6",
   "metadata": {},
   "outputs": [],
   "source": [
    "median_points = reviews.points.median()\n",
    "median_points"
   ]
  },
  {
   "cell_type": "code",
   "execution_count": null,
   "id": "214297bb-084e-4e8e-9fe9-0bf5379dc8a0",
   "metadata": {},
   "outputs": [],
   "source": [
    "countries = reviews.country.unique()\n",
    "countries"
   ]
  },
  {
   "cell_type": "code",
   "execution_count": null,
   "id": "f8fda45b-7600-46ee-9ea2-fe0973a01990",
   "metadata": {},
   "outputs": [],
   "source": [
    "reviews_per_country = reviews.country.value_counts()\n",
    "reviews_per_country"
   ]
  },
  {
   "cell_type": "code",
   "execution_count": null,
   "id": "2baacddb-200d-46dd-8b84-0104099fac56",
   "metadata": {},
   "outputs": [],
   "source": [
    "centered_price = reviews.price.apply(lambda x: x - reviews.price.mean())\n",
    "centered_price = reviews.price - reviews.price.mean() # same as previouse\n",
    "centered_price"
   ]
  },
  {
   "cell_type": "code",
   "execution_count": null,
   "id": "ffdee48a-2d34-411e-9447-47906904f328",
   "metadata": {},
   "outputs": [],
   "source": [
    "bargain_idx = (reviews.points / reviews.price).idxmax()\n",
    "bargain_idx"
   ]
  },
  {
   "cell_type": "code",
   "execution_count": null,
   "id": "e9bc0028-a0d0-4010-8eba-86a1cbc1d61a",
   "metadata": {},
   "outputs": [],
   "source": [
    "bargain_wine = reviews.loc[bargain_idx, 'title']\n",
    "bargain_wine"
   ]
  },
  {
   "cell_type": "code",
   "execution_count": null,
   "id": "2193ebdc-8138-44a8-8075-34fe674209a3",
   "metadata": {},
   "outputs": [],
   "source": [
    "n_trop = reviews.description.apply(lambda x: 'tropical' in x).sum()\n",
    "n_fruity = reviews.description.apply(lambda x: 'fruity' in x).sum()\n",
    "\n",
    "descriptor_counts = pd.Series([n_trop, n_fruity], index=['tropical', 'fruity'])\n",
    "descriptor_counts"
   ]
  },
  {
   "cell_type": "code",
   "execution_count": null,
   "id": "007e4909-f623-447c-80ce-61b0b9223743",
   "metadata": {},
   "outputs": [],
   "source": [
    "def stars(row):\n",
    "    if row.country == 'Canada':\n",
    "        return 3\n",
    "    elif row.points >= 95:\n",
    "        return 3\n",
    "    elif row.points >= 85:\n",
    "        return 2\n",
    "    else:\n",
    "        return 1\n",
    "\n",
    "star_ratings = reviews.apply(stars, axis='columns')\n",
    "star_ratings"
   ]
  },
  {
   "cell_type": "code",
   "execution_count": null,
   "id": "97c458f3-2851-4def-8992-561f6948e492",
   "metadata": {},
   "outputs": [],
   "source": [
    "reviews.points = reviews.points.apply(lambda x: 3 if x >= 95 else (2 if 95 > x >= 85 else 1))\n",
    "reviews.points[reviews.country == 'Canada'] = 3\n",
    "\n",
    "reviews.points"
   ]
  }
 ],
 "metadata": {
  "kernelspec": {
   "display_name": "Python 3 (ipykernel)",
   "language": "python",
   "name": "python3"
  },
  "language_info": {
   "codemirror_mode": {
    "name": "ipython",
    "version": 3
   },
   "file_extension": ".py",
   "mimetype": "text/x-python",
   "name": "python",
   "nbconvert_exporter": "python",
   "pygments_lexer": "ipython3",
   "version": "3.9.16"
  }
 },
 "nbformat": 4,
 "nbformat_minor": 5
}
