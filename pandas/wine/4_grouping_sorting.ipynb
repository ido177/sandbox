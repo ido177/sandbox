{
 "cells": [
  {
   "cell_type": "code",
   "execution_count": null,
   "id": "901f30e7-17b6-4d36-8464-eba5c56ac4e0",
   "metadata": {},
   "outputs": [],
   "source": [
    "import pandas as pd\n",
    "\n",
    "reviews = pd.read_csv(\"winemag-data-130k-v2.csv\", index_col=0)\n",
    "pd.set_option(\"display.max_rows\", 5)"
   ]
  },
  {
   "cell_type": "code",
   "execution_count": null,
   "id": "80bcf877-6c08-404c-81a4-2d375500419b",
   "metadata": {},
   "outputs": [],
   "source": [
    "reviews_written = reviews.groupby('taster_twitter_handle').taster_twitter_handle.count()\n",
    "reviews_written = reviews.groupby('taster_twitter_handle').size()\n",
    "reviews_written"
   ]
  },
  {
   "cell_type": "code",
   "execution_count": null,
   "id": "34a0dd49-39fb-474c-a656-56f790c1b6cd",
   "metadata": {},
   "outputs": [],
   "source": [
    "reviews.groupby('price').points.agg([max]).sort_values(by='price')\n",
    "reviews.groupby('price')['points'].max().sort_index()"
   ]
  },
  {
   "cell_type": "code",
   "execution_count": null,
   "id": "c9306a12-1081-4bdd-957f-d54de452a019",
   "metadata": {},
   "outputs": [],
   "source": [
    "price_extremes = reviews.groupby('variety').price.agg(['min', max])\n",
    "price_extremes"
   ]
  },
  {
   "cell_type": "code",
   "execution_count": null,
   "id": "b88fa95e-2ff0-44ad-8187-e658c558e37e",
   "metadata": {},
   "outputs": [],
   "source": [
    "sorted_varieties = price_extremes.sort_values(['min', 'max'], ascending=False)\n",
    "sorted_varieties"
   ]
  },
  {
   "cell_type": "code",
   "execution_count": null,
   "id": "e4abc71e-13bd-4016-9fbb-0375c6a4ec1a",
   "metadata": {},
   "outputs": [],
   "source": [
    "reviewer_mean_ratings = reviews.groupby('taster_name').points.agg('mean')\n",
    "reviewer_mean_ratings"
   ]
  },
  {
   "cell_type": "code",
   "execution_count": null,
   "id": "cce5de15-a985-4a8d-83ea-37e295e75731",
   "metadata": {},
   "outputs": [],
   "source": [
    "country_variety_counts = reviews.groupby(['country', 'variety']).size().sort_values(ascending=False)\n",
    "country_variety_counts"
   ]
  },
  {
   "cell_type": "code",
   "execution_count": null,
   "id": "2a64e51b-acb3-469c-9f84-8bd3d9271e8b",
   "metadata": {},
   "outputs": [],
   "source": []
  }
 ],
 "metadata": {
  "kernelspec": {
   "display_name": "Python 3 (ipykernel)",
   "language": "python",
   "name": "python3"
  },
  "language_info": {
   "codemirror_mode": {
    "name": "ipython",
    "version": 3
   },
   "file_extension": ".py",
   "mimetype": "text/x-python",
   "name": "python",
   "nbconvert_exporter": "python",
   "pygments_lexer": "ipython3",
   "version": "3.9.16"
  }
 },
 "nbformat": 4,
 "nbformat_minor": 5
}
