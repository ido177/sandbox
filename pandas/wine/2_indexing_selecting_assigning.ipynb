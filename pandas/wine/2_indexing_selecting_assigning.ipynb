{
 "cells": [
  {
   "cell_type": "code",
   "execution_count": null,
   "id": "953384c0-e236-4985-b7af-74af11acf9e1",
   "metadata": {},
   "outputs": [],
   "source": [
    "import pandas as pd\n",
    "\n",
    "reviews = pd.read_csv(\"winemag-data-130k-v2.csv\", index_col=0)\n",
    "pd.set_option(\"display.max_rows\", 5)"
   ]
  },
  {
   "cell_type": "code",
   "execution_count": null,
   "id": "362a4826-7728-4fff-af89-ab5bddb444c0",
   "metadata": {},
   "outputs": [],
   "source": [
    "reviews.head()"
   ]
  },
  {
   "cell_type": "code",
   "execution_count": null,
   "id": "b79a393c-b29b-497b-8b21-a3335970fb5b",
   "metadata": {},
   "outputs": [],
   "source": [
    "first_description = reviews.description[0]\n",
    "first_description"
   ]
  },
  {
   "cell_type": "code",
   "execution_count": null,
   "id": "6272f640-993f-4d64-ae92-764249df2cb3",
   "metadata": {},
   "outputs": [],
   "source": [
    "first_row = reviews.iloc[0]\n",
    "first_row"
   ]
  },
  {
   "cell_type": "code",
   "execution_count": null,
   "id": "b5fa3f79-6fa1-4231-92ae-739e56649cfb",
   "metadata": {},
   "outputs": [],
   "source": [
    "first_descriptions = reviews.loc[0:9, 'description']\n",
    "first_descriptions"
   ]
  },
  {
   "cell_type": "code",
   "execution_count": null,
   "id": "52c63a12-9b86-439a-9b29-97b377cd7f6c",
   "metadata": {},
   "outputs": [],
   "source": [
    "sample_reviews = reviews.loc[[1, 2, 3, 5, 8]]\n",
    "sample_reviews"
   ]
  },
  {
   "cell_type": "code",
   "execution_count": null,
   "id": "501487e8-39c2-45ce-b8a7-196e6d5c95be",
   "metadata": {},
   "outputs": [],
   "source": [
    "df = reviews.loc[[0, 1, 10, 100], ['country', 'province', 'region_1', 'region_2']]\n",
    "df"
   ]
  },
  {
   "cell_type": "code",
   "execution_count": null,
   "id": "34a662cc-b2ed-45a9-92bb-0c599a663919",
   "metadata": {},
   "outputs": [],
   "source": [
    "df = reviews.loc[0:99, ['country', 'variety']]\n",
    "df"
   ]
  },
  {
   "cell_type": "code",
   "execution_count": null,
   "id": "953eda1f-feb5-46c4-a402-73259ca96082",
   "metadata": {},
   "outputs": [],
   "source": [
    "italian_wines = reviews[reviews.country == 'Italy']\n",
    "italian_wines"
   ]
  },
  {
   "cell_type": "code",
   "execution_count": null,
   "id": "51bdada6-911c-4b33-b8de-c6e62a69dc8f",
   "metadata": {},
   "outputs": [],
   "source": [
    "top_oceania_wines = reviews[(reviews.points >= 95) & ((reviews.country == 'Australia') | (reviews.country == 'New Zealand'))]\n",
    "top_oceania_wines"
   ]
  },
  {
   "cell_type": "code",
   "execution_count": null,
   "id": "8d112780-9cf0-483f-afe0-17d0b4b9b9e6",
   "metadata": {},
   "outputs": [],
   "source": [
    "centered_price = reviews['price'].apply(lambda x: x - reviews.price.mean())\n",
    "centered_price"
   ]
  },
  {
   "cell_type": "code",
   "execution_count": null,
   "id": "39af0a84-e2f7-4bd9-955b-74e22cdef9b9",
   "metadata": {},
   "outputs": [],
   "source": []
  }
 ],
 "metadata": {
  "kernelspec": {
   "display_name": "Python 3 (ipykernel)",
   "language": "python",
   "name": "python3"
  },
  "language_info": {
   "codemirror_mode": {
    "name": "ipython",
    "version": 3
   },
   "file_extension": ".py",
   "mimetype": "text/x-python",
   "name": "python",
   "nbconvert_exporter": "python",
   "pygments_lexer": "ipython3",
   "version": "3.9.16"
  }
 },
 "nbformat": 4,
 "nbformat_minor": 5
}
